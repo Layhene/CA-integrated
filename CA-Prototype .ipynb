{
 "cells": [
  {
   "cell_type": "code",
   "execution_count": 46,
   "id": "d1580e1a",
   "metadata": {},
   "outputs": [
    {
     "name": "stdout",
     "output_type": "stream",
     "text": [
      "In Scenario 1, Ciara should consider hiring: Peter, Juan, Jim\n"
     ]
    }
   ],
   "source": [
    "# Define the candidates and their abilities\n",
    "candidates = {\n",
    "    'Peter': ['Python', 'AI'],\n",
    "    'Juan': ['Web', 'AI'],\n",
    "    'Jim': ['AI', 'Systems'],\n",
    "    'Jane': ['Python', 'Database'],\n",
    "    'Mary': ['Web', 'Systems'],\n",
    "    'Bruce': ['Systems', 'Python'],\n",
    "    'Anita': ['Web', 'AI'],\n",
    "}\n",
    "\n",
    "# Ciara's available roles to fill\n",
    "roles_to_fill = {\n",
    "    'Python Programmer': 2,\n",
    "    'AI Engineer': 1,\n",
    "}\n",
    "\n",
    "# Ciara already knows Python\n",
    "ciara_knows_python = True\n",
    "\n",
    "# Filter candidates based on the roles Ciara wants to fill\n",
    "filtered_candidates = {name: abilities for name, abilities in candidates.items() if 'AI' in abilities}\n",
    "\n",
    "# Prioritize AI Engineers\n",
    "hired_candidates = []\n",
    "for name, abilities in filtered_candidates.items():\n",
    "    if 'AI' in abilities:\n",
    "        hired_candidates.append(name)\n",
    "        roles_to_fill['AI Engineer'] -= 1\n",
    "\n",
    "        # If Ciara knows Python, count the candidate as a Python Programmer as well\n",
    "        if ciara_knows_python:\n",
    "            roles_to_fill['Python Programmer'] -= 1\n",
    "\n",
    "    if len(hired_candidates) == 3 or all(value == 0 for value in roles_to_fill.values()):\n",
    "        break  # Either hired 3 people or filled all roles, exit the loop\n",
    "\n",
    "# Display the hired candidates\n",
    "print(f\"In Scenario 1, Ciara should consider hiring: {', '.join(hired_candidates)}\")\n"
   ]
  },
  {
   "cell_type": "code",
   "execution_count": 24,
   "id": "e7947955",
   "metadata": {},
   "outputs": [
    {
     "name": "stdout",
     "output_type": "stream",
     "text": [
      "Requirement already satisfied: pulp in /Users/layhenececilio/opt/anaconda3/lib/python3.9/site-packages (2.7.0)\n",
      "Note: you may need to restart the kernel to use updated packages.\n"
     ]
    }
   ],
   "source": [
    "pip install pulp"
   ]
  },
  {
   "cell_type": "code",
   "execution_count": 23,
   "id": "73cb65e7",
   "metadata": {},
   "outputs": [
    {
     "ename": "TypeError",
     "evalue": "Domains must be instances of subclasses of the Domain class",
     "output_type": "error",
     "traceback": [
      "\u001b[0;31m---------------------------------------------------------------------------\u001b[0m",
      "\u001b[0;31mTypeError\u001b[0m                                 Traceback (most recent call last)",
      "Cell \u001b[0;32mIn[23], line 27\u001b[0m\n\u001b[1;32m     25\u001b[0m \u001b[38;5;66;03m# Add variables to the problem: each candidate can be assigned to a role\u001b[39;00m\n\u001b[1;32m     26\u001b[0m \u001b[38;5;28;01mfor\u001b[39;00m candidate \u001b[38;5;129;01min\u001b[39;00m candidates:\n\u001b[0;32m---> 27\u001b[0m     \u001b[43mproblem\u001b[49m\u001b[38;5;241;43m.\u001b[39;49m\u001b[43maddVariable\u001b[49m\u001b[43m(\u001b[49m\u001b[43mcandidate\u001b[49m\u001b[43m,\u001b[49m\u001b[43m \u001b[49m\u001b[43mroles_to_fill\u001b[49m\u001b[38;5;241;43m.\u001b[39;49m\u001b[43mkeys\u001b[49m\u001b[43m(\u001b[49m\u001b[43m)\u001b[49m\u001b[43m)\u001b[49m\n\u001b[1;32m     29\u001b[0m \u001b[38;5;66;03m# Add custom constraint to ensure Ciara and Juan are not assigned roles\u001b[39;00m\n\u001b[1;32m     30\u001b[0m problem\u001b[38;5;241m.\u001b[39maddConstraint(\u001b[38;5;28;01mlambda\u001b[39;00m ciara, juan: ciara \u001b[38;5;241m!=\u001b[39m juan, (\u001b[38;5;124m'\u001b[39m\u001b[38;5;124mCiara\u001b[39m\u001b[38;5;124m'\u001b[39m, \u001b[38;5;124m'\u001b[39m\u001b[38;5;124mJuan\u001b[39m\u001b[38;5;124m'\u001b[39m))\n",
      "File \u001b[0;32m~/opt/anaconda3/lib/python3.9/site-packages/constraint/__init__.py:174\u001b[0m, in \u001b[0;36mProblem.addVariable\u001b[0;34m(self, variable, domain)\u001b[0m\n\u001b[1;32m    172\u001b[0m \u001b[38;5;28;01melse\u001b[39;00m:\n\u001b[1;32m    173\u001b[0m     msg \u001b[38;5;241m=\u001b[39m \u001b[38;5;124m\"\u001b[39m\u001b[38;5;124mDomains must be instances of subclasses of the Domain class\u001b[39m\u001b[38;5;124m\"\u001b[39m\n\u001b[0;32m--> 174\u001b[0m     \u001b[38;5;28;01mraise\u001b[39;00m \u001b[38;5;167;01mTypeError\u001b[39;00m(msg)\n\u001b[1;32m    175\u001b[0m \u001b[38;5;28;01mif\u001b[39;00m \u001b[38;5;129;01mnot\u001b[39;00m domain:\n\u001b[1;32m    176\u001b[0m     \u001b[38;5;28;01mraise\u001b[39;00m \u001b[38;5;167;01mValueError\u001b[39;00m(\u001b[38;5;124m\"\u001b[39m\u001b[38;5;124mDomain is empty\u001b[39m\u001b[38;5;124m\"\u001b[39m)\n",
      "\u001b[0;31mTypeError\u001b[0m: Domains must be instances of subclasses of the Domain class"
     ]
    }
   ],
   "source": [
    "from constraint import Problem, AllDifferentConstraint\n",
    "\n",
    "# Define the candidates and their abilities\n",
    "candidates = {\n",
    "    'Peter': ['Python', 'AI'],\n",
    "    'Jim': ['AI', 'Systems'],\n",
    "    'Jane': ['Python', 'Database'],\n",
    "    'Mary': ['Web', 'Systems'],\n",
    "    'Bruce': ['Systems', 'Python'],\n",
    "    'Anita': ['Web', 'AI'],\n",
    "}\n",
    "\n",
    "# Define the roles to fill\n",
    "roles_to_fill = {\n",
    "    'Python Programmer': 2,\n",
    "    'AI Engineer': 3,\n",
    "    'Web Designer': 1,\n",
    "    'Database Admin': 1,\n",
    "    'Systems Engineer': 1,\n",
    "}\n",
    "\n",
    "# Create a problem instance\n",
    "problem = Problem()\n",
    "\n",
    "# Add variables to the problem: each candidate can be assigned to a role\n",
    "for candidate in candidates:\n",
    "    problem.addVariable(candidate, roles_to_fill.keys())\n",
    "\n",
    "# Add custom constraint to ensure Ciara and Juan are not assigned roles\n",
    "problem.addConstraint(lambda ciara, juan: ciara != juan, ('Ciara', 'Juan'))\n",
    "\n",
    "# Add constraints to ensure the roles are filled according to the roles_to_fill dictionary\n",
    "for role, count in roles_to_fill.items():\n",
    "    problem.addConstraint(lambda *args: sum(role == r for r in args) == count, tuple(candidates.keys()))\n",
    "\n",
    "# Find a solution\n",
    "solutions = problem.getSolutions()\n",
    "\n",
    "# Display the solution\n",
    "if solutions:\n",
    "    print(\"Hired Candidates (excluding Ciara and Juan):\")\n",
    "    for candidate, role in solutions[0].items():\n",
    "        print(f\"{candidate}: {role}\")\n",
    "else:\n",
    "    print(\"No solution found.\")\n"
   ]
  },
  {
   "cell_type": "code",
   "execution_count": null,
   "id": "b5415fce",
   "metadata": {},
   "outputs": [],
   "source": []
  }
 ],
 "metadata": {
  "kernelspec": {
   "display_name": "Python 3 (ipykernel)",
   "language": "python",
   "name": "python3"
  },
  "language_info": {
   "codemirror_mode": {
    "name": "ipython",
    "version": 3
   },
   "file_extension": ".py",
   "mimetype": "text/x-python",
   "name": "python",
   "nbconvert_exporter": "python",
   "pygments_lexer": "ipython3",
   "version": "3.9.18"
  }
 },
 "nbformat": 4,
 "nbformat_minor": 5
}
