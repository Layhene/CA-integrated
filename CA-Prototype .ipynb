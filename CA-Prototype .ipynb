{
 "cells": [
  {
   "cell_type": "code",
   "execution_count": 1,
   "id": "e8a0ea2d",
   "metadata": {},
   "outputs": [],
   "source": [
    "import csp\n",
    "from csp import Constraint, CSP"
   ]
  },
  {
   "cell_type": "code",
   "execution_count": 2,
   "id": "561c09f1",
   "metadata": {},
   "outputs": [],
   "source": [
    "from typing import Dict, List, Optional"
   ]
  },
  {
   "cell_type": "code",
   "execution_count": 21,
   "id": "fa70045e",
   "metadata": {},
   "outputs": [
    {
     "name": "stdout",
     "output_type": "stream",
     "text": [
      "No solution found.\n"
     ]
    }
   ],
   "source": [
    "from constraint import Problem, AllDifferentConstraint\n",
    "\n",
    "# Define the candidates and their abilities\n",
    "candidates = {\n",
    "    'Peter': ['Python', 'AI'],\n",
    "    'Juan': ['Web', 'AI'],\n",
    "    'Jim': ['AI', 'Systems'],\n",
    "    'Jane': ['Python', 'Database'],\n",
    "    'Mary': ['Web', 'Systems'],\n",
    "    'Bruce': ['Systems', 'Python'],\n",
    "    'Anita': ['Web', 'AI'],\n",
    "}\n",
    "\n",
    "# Ciara's available roles to fill\n",
    "roles_to_fill = {\n",
    "    'Python Programmer': 2,\n",
    "    'AI Engineer': 1,\n",
    "}\n",
    "\n",
    "# Create a CSP problem\n",
    "problem = Problem()\n",
    "\n",
    "# Add variables (candidates) and their domains (possible roles)\n",
    "for candidate in candidates.keys():\n",
    "    problem.addVariable(candidate, [0, 1])  # 0 represents not hired, 1 represents hired\n",
    "\n",
    "# Add constraints to ensure that roles are filled appropriately\n",
    "problem.addConstraint(AllDifferentConstraint(), candidates.keys())\n",
    "\n",
    "# If Ciara knows Python, count the candidate as a Python Programmer as well\n",
    "if ciara_knows_python:\n",
    "    for candidate, abilities in candidates.items():\n",
    "        if 'Python' in abilities:\n",
    "            problem.addConstraint(lambda *roles, candidate=candidate: roles[candidates[candidate].index('AI')] == 1, candidates.keys())\n",
    "\n",
    "# Add constraint to ensure the number of hires meets the requirements\n",
    "problem.addConstraint(lambda *roles: sum(roles) == sum(roles_to_fill.values()))\n",
    "\n",
    "# Solve the CSP problem\n",
    "solutions = problem.getSolutions()\n",
    "\n",
    "# Display the solutions\n",
    "if solutions:\n",
    "    print(\"In Scenario 1, Ciara should consider hiring:\")\n",
    "    for solution in solutions:\n",
    "        hired_candidates = [candidate for candidate, hired in solution.items() if hired == 1]\n",
    "        print(\", \".join(hired_candidates))\n",
    "else:\n",
    "    print(\"No solution found.\")\n"
   ]
  },
  {
   "cell_type": "code",
   "execution_count": null,
   "id": "5a966614",
   "metadata": {},
   "outputs": [],
   "source": []
  }
 ],
 "metadata": {
  "kernelspec": {
   "display_name": "Python 3 (ipykernel)",
   "language": "python",
   "name": "python3"
  },
  "language_info": {
   "codemirror_mode": {
    "name": "ipython",
    "version": 3
   },
   "file_extension": ".py",
   "mimetype": "text/x-python",
   "name": "python",
   "nbconvert_exporter": "python",
   "pygments_lexer": "ipython3",
   "version": "3.9.18"
  }
 },
 "nbformat": 4,
 "nbformat_minor": 5
}
