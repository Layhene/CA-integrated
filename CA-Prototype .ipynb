{
 "cells": [
  {
   "cell_type": "code",
   "execution_count": 42,
   "id": "c63b2f1d",
   "metadata": {},
   "outputs": [
    {
     "name": "stdout",
     "output_type": "stream",
     "text": [
      "In Scenario 1, Ciara should consider hiring:\n",
      "Jane, Peter\n"
     ]
    }
   ],
   "source": [
    "def depth_first_search(candidates, roles_to_fill, ciara_knows_python, current_solution, solutions):\n",
    "    if len(current_solution) == len(candidates):\n",
    "        # All candidates have been considered, check if the solution is valid\n",
    "        hired_candidates = [candidate for candidate, hired in current_solution.items() if hired == 1]\n",
    "        python_programmer_count = sum(1 for candidate in hired_candidates if 'Python' in candidates[candidate])\n",
    "        ai_engineer_count = sum(1 for candidate in hired_candidates if 'AI' in candidates[candidate])\n",
    "        \n",
    "        if python_programmer_count == roles_to_fill['Python Programmer'] and ai_engineer_count == roles_to_fill['AI Engineer']:\n",
    "            solutions.append(current_solution.copy())\n",
    "\n",
    "    for candidate in sorted(candidates.keys()):  # Sort the candidates for consistent order\n",
    "        if candidate not in current_solution:\n",
    "            for hire_status in [0, 1]:\n",
    "                current_solution[candidate] = hire_status\n",
    "                depth_first_search(candidates, roles_to_fill, ciara_knows_python, current_solution, solutions)\n",
    "                del current_solution[candidate]\n",
    "                if solutions:\n",
    "                    return  # Stop the search if a solution is found\n",
    "                \n",
    "                # Define the candidates and their abilities\n",
    "candidates = {\n",
    "    'Peter': ['Python', 'AI'],\n",
    "    'Juan': ['Web', 'AI'],\n",
    "    'Jim': ['AI', 'Systems'],\n",
    "    'Jane': ['Python', 'Database'],\n",
    "    'Mary': ['Web', 'Systems'],\n",
    "    'Bruce': ['Systems', 'Python'],\n",
    "    'Anita': ['Web', 'AI'],\n",
    "}\n",
    "\n",
    "# Ciara's available roles to fill\n",
    "roles_to_fill = {\n",
    "    'Python Programmer': 2,\n",
    "    'AI Engineer': 1,\n",
    "}\n",
    "\n",
    "# Ciara already knows Python\n",
    "ciara_knows_python = True\n",
    "\n",
    "# Initialize variables for DFS\n",
    "current_solution = {}\n",
    "solutions = []\n",
    "\n",
    "# Perform depth-first search to find one solution\n",
    "depth_first_search(candidates, roles_to_fill, ciara_knows_python, current_solution, solutions)\n",
    "\n",
    "# Display the solution\n",
    "if solutions:\n",
    "    print(\"In Scenario 1, Ciara should consider hiring:\")\n",
    "    hired_candidates = [candidate for candidate, hired in solutions[0].items() if hired == 1]\n",
    "    print(\", \".join(hired_candidates))\n",
    "else:\n",
    "    print(\"No solution found.\")\n",
    "\n",
    "# Rest of your code remains unchanged\n",
    "\n",
    "# Perform depth-first search to find one solution\n",
    "depth_first_search(candidates, roles_to_fill, ciara_knows_python, current_solution, solutions)\n"
   ]
  },
  {
   "cell_type": "code",
   "execution_count": null,
   "id": "8867b420",
   "metadata": {},
   "outputs": [],
   "source": []
  }
 ],
 "metadata": {
  "kernelspec": {
   "display_name": "Python 3 (ipykernel)",
   "language": "python",
   "name": "python3"
  },
  "language_info": {
   "codemirror_mode": {
    "name": "ipython",
    "version": 3
   },
   "file_extension": ".py",
   "mimetype": "text/x-python",
   "name": "python",
   "nbconvert_exporter": "python",
   "pygments_lexer": "ipython3",
   "version": "3.9.18"
  }
 },
 "nbformat": 4,
 "nbformat_minor": 5
}
